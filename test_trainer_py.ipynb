{
 "cells": [
  {
   "cell_type": "code",
   "execution_count": 2,
   "metadata": {},
   "outputs": [],
   "source": [
    "import warnings\n",
    "\n",
    "warnings.filterwarnings(\"ignore\")\n",
    "import argparse\n",
    "import importlib\n",
    "import os"
   ]
  },
  {
   "cell_type": "code",
   "execution_count": 3,
   "metadata": {},
   "outputs": [
    {
     "ename": "ModuleNotFoundError",
     "evalue": "No module named 'torch'",
     "output_type": "error",
     "traceback": [
      "\u001b[0;31m---------------------------------------------------------------------------\u001b[0m",
      "\u001b[0;31mModuleNotFoundError\u001b[0m                       Traceback (most recent call last)",
      "Cell \u001b[0;32mIn[3], line 1\u001b[0m\n\u001b[0;32m----> 1\u001b[0m \u001b[38;5;28;01mfrom\u001b[39;00m \u001b[38;5;21;01mtrain\u001b[39;00m \u001b[38;5;28;01mimport\u001b[39;00m train\n\u001b[1;32m      3\u001b[0m \u001b[38;5;66;03m# import os\u001b[39;00m\n\u001b[1;32m      4\u001b[0m \u001b[38;5;66;03m# os.environ['CUDA_VISIBLE_DEVICES'] = '-1'\u001b[39;00m\n",
      "File \u001b[0;32m~/code/high-density-eeg-analysis/Tinysleepnet-pytorch/train.py:7\u001b[0m\n\u001b[1;32m      5\u001b[0m \u001b[38;5;28;01mimport\u001b[39;00m \u001b[38;5;21;01mnumpy\u001b[39;00m \u001b[38;5;28;01mas\u001b[39;00m \u001b[38;5;21;01mnp\u001b[39;00m\n\u001b[1;32m      6\u001b[0m \u001b[38;5;28;01mimport\u001b[39;00m \u001b[38;5;21;01mshutil\u001b[39;00m\n\u001b[0;32m----> 7\u001b[0m \u001b[38;5;28;01mimport\u001b[39;00m \u001b[38;5;21;01mtorch\u001b[39;00m\n\u001b[1;32m      9\u001b[0m \u001b[38;5;28;01mfrom\u001b[39;00m \u001b[38;5;21;01mdata\u001b[39;00m \u001b[38;5;28;01mimport\u001b[39;00m load_data, get_subject_files\n\u001b[1;32m     10\u001b[0m \u001b[38;5;28;01mfrom\u001b[39;00m \u001b[38;5;21;01mmodel\u001b[39;00m \u001b[38;5;28;01mimport\u001b[39;00m Model\n",
      "\u001b[0;31mModuleNotFoundError\u001b[0m: No module named 'torch'"
     ]
    }
   ],
   "source": [
    "from train import train\n",
    "\n",
    "# import os\n",
    "# os.environ['CUDA_VISIBLE_DEVICES'] = '-1'"
   ]
  },
  {
   "cell_type": "code",
   "execution_count": null,
   "metadata": {},
   "outputs": [],
   "source": [
    "def run(args, db, gpu, from_fold, to_fold, suffix=\"\", random_seed=42):\n",
    "    # Set GPU visible\n",
    "\n",
    "    # Config file\n",
    "    config_file = os.path.join(\"config\", f\"{db}.py\")\n",
    "    spec = importlib.util.spec_from_file_location(\"*\", config_file)\n",
    "    config = importlib.util.module_from_spec(spec)\n",
    "    spec.loader.exec_module(config)\n",
    "\n",
    "    # Output directory\n",
    "    output_dir = f\"out_{db}{suffix}\"\n",
    "\n",
    "    assert from_fold <= to_fold\n",
    "    assert to_fold < config.params[\"n_folds\"]\n",
    "\n",
    "    # Training\n",
    "    for fold_idx in range(from_fold, to_fold + 1):\n",
    "        train(\n",
    "            args=args,\n",
    "            config_file=config_file,\n",
    "            fold_idx=fold_idx,\n",
    "            output_dir=os.path.join(output_dir, \"train\"),\n",
    "            log_file=os.path.join(output_dir, f\"train_{gpu}.log\"),\n",
    "            restart=True,\n",
    "            random_seed=random_seed + fold_idx,\n",
    "        )\n",
    "\n",
    "        # Reset tensorflow graph\n",
    "        # tf.reset_default_graph()"
   ]
  }
 ],
 "metadata": {
  "kernelspec": {
   "display_name": "mne_env",
   "language": "python",
   "name": "python3"
  },
  "language_info": {
   "codemirror_mode": {
    "name": "ipython",
    "version": 3
   },
   "file_extension": ".py",
   "mimetype": "text/x-python",
   "name": "python",
   "nbconvert_exporter": "python",
   "pygments_lexer": "ipython3",
   "version": "3.11.10"
  }
 },
 "nbformat": 4,
 "nbformat_minor": 2
}
