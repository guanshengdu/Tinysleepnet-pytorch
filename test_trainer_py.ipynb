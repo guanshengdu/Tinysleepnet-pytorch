{
 "cells": [
  {
   "cell_type": "markdown",
   "metadata": {},
   "source": [
    "\n",
    "\n",
    "`python trainer.py --db sleepedf --gpu 0 --from_fold 0 --to_fold 19`\n"
   ]
  },
  {
   "cell_type": "code",
   "execution_count": 1,
   "metadata": {},
   "outputs": [],
   "source": [
    "import warnings\n",
    "\n",
    "warnings.filterwarnings(\"ignore\")\n",
    "import argparse\n",
    "import importlib\n",
    "import os"
   ]
  },
  {
   "cell_type": "code",
   "execution_count": 2,
   "metadata": {},
   "outputs": [],
   "source": [
    "from train import train\n",
    "\n",
    "# import os\n",
    "# os.environ['CUDA_VISIBLE_DEVICES'] = '-1'"
   ]
  },
  {
   "cell_type": "code",
   "execution_count": 7,
   "metadata": {},
   "outputs": [
    {
     "name": "stdout",
     "output_type": "stream",
     "text": [
      "Checking CUDA status...\n",
      "CUDA available: False\n",
      "Number of GPUs: 0\n",
      "CUDA is not available. Please check your environment or allocation.\n",
      "Current working directory: /cfs/earth/scratch/dugua001/Tinysleepnet-pytorch\n"
     ]
    }
   ],
   "source": [
    "# Check if CUDA is available\n",
    "import torch\n",
    "\n",
    "print(\"Checking CUDA status...\")\n",
    "print(f\"CUDA available: {torch.cuda.is_available()}\")\n",
    "print(f\"Number of GPUs: {torch.cuda.device_count()}\")\n",
    "\n",
    "if torch.cuda.is_available():\n",
    "    for i in range(torch.cuda.device_count()):\n",
    "        print(f\"GPU {i}: {torch.cuda.get_device_name(i)}\")\n",
    "        print(f\"Memory Allocated: {torch.cuda.memory_allocated(i)} bytes\")\n",
    "        print(f\"Memory Reserved: {torch.cuda.memory_reserved(i)} bytes\")\n",
    "else:\n",
    "    print(\"CUDA is not available. Please check your environment or allocation.\")\n",
    "\n",
    "\n",
    "# Optionally, print out the working directory to verify the file locations\n",
    "print(f\"Current working directory: {os.getcwd()}\")"
   ]
  },
  {
   "cell_type": "code",
   "execution_count": 4,
   "metadata": {},
   "outputs": [],
   "source": [
    "args = \"Namespace(db='sleepedf', from_fold=0, gpu=0, n_epochs=200, random_seed=42, suffix='', test_batch_size=15, test_seq_len=20, to_fold=19)\"\n",
    "db = \"sleepedf\"\n",
    "gpu = 0\n",
    "from_fold = 0\n",
    "to_fold = 19\n",
    "suffix = \"\"\n",
    "random_seed = 42\n",
    "\n"
   ]
  },
  {
   "cell_type": "code",
   "execution_count": 5,
   "metadata": {},
   "outputs": [],
   "source": [
    "config_file = os.path.join(\"config\", f\"{db}.py\")\n",
    "spec = importlib.util.spec_from_file_location(\"*\", config_file)\n",
    "config = importlib.util.module_from_spec(spec)\n",
    "spec.loader.exec_module(config)"
   ]
  },
  {
   "cell_type": "code",
   "execution_count": 6,
   "metadata": {},
   "outputs": [
    {
     "data": {
      "text/plain": [
       "'config/sleepedf.py'"
      ]
     },
     "execution_count": 6,
     "metadata": {},
     "output_type": "execute_result"
    }
   ],
   "source": [
    "config_file"
   ]
  },
  {
   "cell_type": "code",
   "execution_count": null,
   "metadata": {},
   "outputs": [],
   "source": [
    "# Output directory\n",
    "output_dir = f\"out_{db}{suffix}\"\n",
    "output_dir"
   ]
  },
  {
   "cell_type": "code",
   "execution_count": 11,
   "metadata": {},
   "outputs": [],
   "source": [
    "fold_idx = 0"
   ]
  },
  {
   "cell_type": "code",
   "execution_count": null,
   "metadata": {},
   "outputs": [],
   "source": [
    "args=args\n",
    "config_file=config_file\n",
    "fold_idx=fold_idx\n",
    "output_dir=os.path.join(output_dir, 'train')\n",
    "log_file=os.path.join(output_dir, f'train_{gpu}.log')\n",
    "restart=True\n",
    "random_seed=random_seed+fold_idx\n"
   ]
  },
  {
   "cell_type": "code",
   "execution_count": null,
   "metadata": {},
   "outputs": [],
   "source": [
    "train(\n",
    "    args=args,\n",
    "    config_file=config_file,\n",
    "    fold_idx=fold_idx,\n",
    "    output_dir=os.path.join(output_dir, \"train\"),\n",
    "    log_file=os.path.join(output_dir, f\"train_{gpu}.log\"),\n",
    "    restart=True,\n",
    "    random_seed=random_seed + fold_idx,\n",
    ")"
   ]
  },
  {
   "cell_type": "code",
   "execution_count": 2,
   "metadata": {},
   "outputs": [],
   "source": [
    "def run(args, db, gpu, from_fold, to_fold, suffix=\"\", random_seed=42):\n",
    "    # Set GPU visible\n",
    "\n",
    "    # Config file\n",
    "    config_file = os.path.join(\"config\", f\"{db}.py\")\n",
    "    spec = importlib.util.spec_from_file_location(\"*\", config_file)\n",
    "    config = importlib.util.module_from_spec(spec)\n",
    "    spec.loader.exec_module(config)\n",
    "\n",
    "    # Output directory\n",
    "    output_dir = f\"out_{db}{suffix}\"\n",
    "\n",
    "    assert from_fold <= to_fold\n",
    "    assert to_fold < config.params[\"n_folds\"]\n",
    "\n",
    "    # Training\n",
    "    for fold_idx in range(from_fold, to_fold + 1):\n",
    "        train(\n",
    "            args=args,\n",
    "            config_file=config_file,\n",
    "            fold_idx=fold_idx,\n",
    "            output_dir=os.path.join(output_dir, \"train\"),\n",
    "            log_file=os.path.join(output_dir, f\"train_{gpu}.log\"),\n",
    "            restart=True,\n",
    "            random_seed=random_seed + fold_idx,\n",
    "        )\n",
    "\n",
    "        # Reset tensorflow graph\n",
    "        # tf.reset_default_graph()"
   ]
  },
  {
   "cell_type": "code",
   "execution_count": null,
   "metadata": {},
   "outputs": [],
   "source": [
    "\n",
    "\n",
    "config_file = os.path.join(\"config\", f\"{db}.py\")\n",
    "config_file"
   ]
  },
  {
   "cell_type": "code",
   "execution_count": null,
   "metadata": {},
   "outputs": [],
   "source": [
    "spec = importlib.util.spec_from_file_location(\"*\", config_file)\n",
    "spec"
   ]
  },
  {
   "cell_type": "code",
   "execution_count": null,
   "metadata": {},
   "outputs": [],
   "source": [
    "output_dir = f\"out_{db}{suffix}\"\n",
    "output_dir = os.path.join(output_dir, \"train\")\n",
    "output_dir"
   ]
  },
  {
   "cell_type": "code",
   "execution_count": null,
   "metadata": {},
   "outputs": [],
   "source": [
    "if __name__ == \"__main__\":\n",
    "    parser = argparse.ArgumentParser()\n",
    "    parser.add_argument(\"--db\", type=str, required=True)\n",
    "    parser.add_argument(\"--gpu\", type=int, required=True)\n",
    "    parser.add_argument(\"--from_fold\", type=int, required=True)\n",
    "    parser.add_argument(\"--to_fold\", type=int, required=True)\n",
    "    parser.add_argument(\"--suffix\", type=str, default=\"\")\n",
    "    parser.add_argument(\"--random_seed\", type=int, default=42)\n",
    "    parser.add_argument(\"--test_seq_len\", type=int, default=20)\n",
    "    parser.add_argument(\"--test_batch_size\", type=int, default=15)\n",
    "    parser.add_argument(\"--n_epochs\", type=int, default=200)\n",
    "    args = parser.parse_args()\n",
    "\n",
    "    print(args)\n",
    "\n",
    "    run(\n",
    "        args=args,\n",
    "        db=args.db,\n",
    "        gpu=args.gpu,\n",
    "        from_fold=args.from_fold,\n",
    "        to_fold=args.to_fold,\n",
    "        suffix=args.suffix,\n",
    "        random_seed=args.random_seed,\n",
    "    )"
   ]
  }
 ],
 "metadata": {
  "kernelspec": {
   "display_name": "Python 3",
   "language": "python",
   "name": "python3"
  },
  "language_info": {
   "codemirror_mode": {
    "name": "ipython",
    "version": 3
   },
   "file_extension": ".py",
   "mimetype": "text/x-python",
   "name": "python",
   "nbconvert_exporter": "python",
   "pygments_lexer": "ipython3",
   "version": "3.6.15"
  }
 },
 "nbformat": 4,
 "nbformat_minor": 2
}
